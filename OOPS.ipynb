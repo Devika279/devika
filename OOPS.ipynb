{
 "cells": [
  {
   "cell_type": "code",
   "execution_count": 1,
   "id": "83bfeb0e-c6a5-4549-90ab-23e1033a3107",
   "metadata": {},
   "outputs": [
    {
     "name": "stdout",
     "output_type": "stream",
     "text": [
      "<class 'int'>\n"
     ]
    }
   ],
   "source": [
    "#OOPs is project oriented programming system\n",
    "a=5\n",
    "print(type(a))"
   ]
  },
  {
   "cell_type": "code",
   "execution_count": 1,
   "id": "d311281d-552d-4ebe-bfef-6769f3ec6a6e",
   "metadata": {},
   "outputs": [],
   "source": [
    "#original template is known as class and the duplicate of the origiunal is known as sa  "
   ]
  },
  {
   "cell_type": "code",
   "execution_count": 1,
   "id": "0ed5778d-1dd7-4da8-b5ff-dfc93fd6bd60",
   "metadata": {},
   "outputs": [],
   "source": [
    "#the duplicates or varieties in templates is known as objects of template\n",
    "#human is template , and different people are abjects\n",
    "#properties of template is >> property/attributes\n",
    "#here int is class and 5 is object\n"
   ]
  },
  {
   "cell_type": "code",
   "execution_count": 2,
   "id": "742617e3-c468-4111-a17a-b75a93c8f982",
   "metadata": {},
   "outputs": [],
   "source": [
    "#function\n",
    "class car:\n",
    "    def accelerate():\n",
    "        print(\"car is accelerating\")"
   ]
  },
  {
   "cell_type": "code",
   "execution_count": 4,
   "id": "7eab2e1b-a615-4d4e-8f8f-493da7e5d93c",
   "metadata": {},
   "outputs": [
    {
     "ename": "TypeError",
     "evalue": "car.accelerate() takes 0 positional arguments but 1 was given",
     "output_type": "error",
     "traceback": [
      "\u001b[1;31m---------------------------------------------------------------------------\u001b[0m",
      "\u001b[1;31mTypeError\u001b[0m                                 Traceback (most recent call last)",
      "Cell \u001b[1;32mIn[4], line 2\u001b[0m\n\u001b[0;32m      1\u001b[0m c1 \u001b[38;5;241m=\u001b[39m car()\n\u001b[1;32m----> 2\u001b[0m \u001b[43mc1\u001b[49m\u001b[38;5;241;43m.\u001b[39;49m\u001b[43maccelerate\u001b[49m\u001b[43m(\u001b[49m\u001b[43m)\u001b[49m\n",
      "\u001b[1;31mTypeError\u001b[0m: car.accelerate() takes 0 positional arguments but 1 was given"
     ]
    }
   ],
   "source": [
    "c1 = car()\n",
    "c1.accelerate()"
   ]
  },
  {
   "cell_type": "code",
   "execution_count": 5,
   "id": "fc92076e-3b18-4df6-8fe4-073c164aaaed",
   "metadata": {},
   "outputs": [],
   "source": [
    "#it shows error to avoid it we shoild add self\n",
    "#self>> a variable that represents instance of the class using we can acces method /function of class. also attribute / property/data of the class\n"
   ]
  },
  {
   "cell_type": "code",
   "execution_count": 6,
   "id": "b3cb471f-33a1-4ee0-bfdd-a31c9aa2b5db",
   "metadata": {},
   "outputs": [],
   "source": [
    "class car:\n",
    "    def accelerate(self):\n",
    "        print(\"car is accelerating\")"
   ]
  },
  {
   "cell_type": "code",
   "execution_count": 7,
   "id": "c6c197e9-aef1-4fa5-bc4a-7ef5786bc896",
   "metadata": {},
   "outputs": [
    {
     "name": "stdout",
     "output_type": "stream",
     "text": [
      "car is accelerating\n"
     ]
    }
   ],
   "source": [
    "c1 = car()\n",
    "c1.accelerate()"
   ]
  },
  {
   "cell_type": "code",
   "execution_count": 8,
   "id": "87e161fc-ac37-441d-98ac-291a8f27883c",
   "metadata": {},
   "outputs": [
    {
     "name": "stdout",
     "output_type": "stream",
     "text": [
      "car is accelerating\n"
     ]
    }
   ],
   "source": [
    "c2 = car()\n",
    "c2.accelerate()"
   ]
  },
  {
   "cell_type": "code",
   "execution_count": 9,
   "id": "442d7253-33b5-4096-8ca6-7420b2913cc0",
   "metadata": {},
   "outputs": [],
   "source": [
    "class car:\n",
    "    def accelerate(self):\n",
    "        print(\"car is accelerating\")\n",
    "    def brake(self):\n",
    "        print(\"car is stopping\")"
   ]
  },
  {
   "cell_type": "code",
   "execution_count": 11,
   "id": "b66a9662-a8e2-4f81-8d70-6afdf57fdadf",
   "metadata": {},
   "outputs": [
    {
     "name": "stdout",
     "output_type": "stream",
     "text": [
      "car is stopping\n"
     ]
    }
   ],
   "source": [
    "c1 = car()\n",
    "c1.brake()"
   ]
  },
  {
   "cell_type": "code",
   "execution_count": 41,
   "id": "0ee542b6-988c-4231-a3b3-560d287d61a4",
   "metadata": {},
   "outputs": [],
   "source": [
    "\n",
    "class list:\n",
    "    l = [1,2,3,4,5]\n",
    "    def even(self,l):\n",
    "        l1 = []\n",
    "        for i in l:\n",
    "            if i%2==0:\n",
    "                l1.append(i)\n",
    "        return l1\n",
    "    def odd(self,l):\n",
    "        l1 = []\n",
    "        for i in l:\n",
    "            if i%2 !=0:\n",
    "                l1.append(i)\n",
    "        return l1"
   ]
  },
  {
   "cell_type": "code",
   "execution_count": 35,
   "id": "f788032d-3c6f-45db-8408-95d83b8775bf",
   "metadata": {},
   "outputs": [
    {
     "ename": "NameError",
     "evalue": "name 'l' is not defined",
     "output_type": "error",
     "traceback": [
      "\u001b[1;31m---------------------------------------------------------------------------\u001b[0m",
      "\u001b[1;31mNameError\u001b[0m                                 Traceback (most recent call last)",
      "Cell \u001b[1;32mIn[35], line 2\u001b[0m\n\u001b[0;32m      1\u001b[0m list1 \u001b[38;5;241m=\u001b[39m \u001b[38;5;28mlist\u001b[39m\n\u001b[1;32m----> 2\u001b[0m list1\u001b[38;5;241m.\u001b[39modd(\u001b[43ml\u001b[49m)\n",
      "\u001b[1;31mNameError\u001b[0m: name 'l' is not defined"
     ]
    }
   ],
   "source": [
    "list1 = list\n",
    "list1.odd(l)"
   ]
  },
  {
   "cell_type": "code",
   "execution_count": 36,
   "id": "cfeea2c8-f039-409e-b6b5-57b80b7f0ce7",
   "metadata": {},
   "outputs": [
    {
     "data": {
      "text/plain": [
       "[1, 2, 3, 4, 5]"
      ]
     },
     "execution_count": 36,
     "metadata": {},
     "output_type": "execute_result"
    }
   ],
   "source": [
    "list1 = list\n",
    "list1.l"
   ]
  },
  {
   "cell_type": "code",
   "execution_count": 40,
   "id": "9f8cb4a2-8faf-471d-afaa-9ec8a4a7bc60",
   "metadata": {},
   "outputs": [
    {
     "ename": "TypeError",
     "evalue": "list.even() missing 1 required positional argument: 'l'",
     "output_type": "error",
     "traceback": [
      "\u001b[1;31m---------------------------------------------------------------------------\u001b[0m",
      "\u001b[1;31mTypeError\u001b[0m                                 Traceback (most recent call last)",
      "Cell \u001b[1;32mIn[40], line 1\u001b[0m\n\u001b[1;32m----> 1\u001b[0m \u001b[43mlist1\u001b[49m\u001b[38;5;241;43m.\u001b[39;49m\u001b[43meven\u001b[49m\u001b[43m(\u001b[49m\u001b[43mlist1\u001b[49m\u001b[38;5;241;43m.\u001b[39;49m\u001b[43ml\u001b[49m\u001b[43m)\u001b[49m\n",
      "\u001b[1;31mTypeError\u001b[0m: list.even() missing 1 required positional argument: 'l'"
     ]
    }
   ],
   "source": [
    "list1.even(list1.l)"
   ]
  },
  {
   "cell_type": "code",
   "execution_count": 42,
   "id": "e2d2a119-4da2-46f0-82a8-630051b5273c",
   "metadata": {},
   "outputs": [
    {
     "ename": "TypeError",
     "evalue": "list.odd() missing 1 required positional argument: 'l'",
     "output_type": "error",
     "traceback": [
      "\u001b[1;31m---------------------------------------------------------------------------\u001b[0m",
      "\u001b[1;31mTypeError\u001b[0m                                 Traceback (most recent call last)",
      "Cell \u001b[1;32mIn[42], line 1\u001b[0m\n\u001b[1;32m----> 1\u001b[0m \u001b[43mlist1\u001b[49m\u001b[38;5;241;43m.\u001b[39;49m\u001b[43modd\u001b[49m\u001b[43m(\u001b[49m\u001b[43mlist1\u001b[49m\u001b[38;5;241;43m.\u001b[39;49m\u001b[43ml\u001b[49m\u001b[43m)\u001b[49m\n",
      "\u001b[1;31mTypeError\u001b[0m: list.odd() missing 1 required positional argument: 'l'"
     ]
    }
   ],
   "source": [
    "list1.odd(list1.l)"
   ]
  },
  {
   "cell_type": "code",
   "execution_count": 44,
   "id": "e6a154b9-953a-4fb2-9ccd-622497a27c1e",
   "metadata": {},
   "outputs": [
    {
     "ename": "TypeError",
     "evalue": "list.even() missing 1 required positional argument: 'l'",
     "output_type": "error",
     "traceback": [
      "\u001b[1;31m---------------------------------------------------------------------------\u001b[0m",
      "\u001b[1;31mTypeError\u001b[0m                                 Traceback (most recent call last)",
      "Cell \u001b[1;32mIn[44], line 1\u001b[0m\n\u001b[1;32m----> 1\u001b[0m \u001b[43mlist1\u001b[49m\u001b[38;5;241;43m.\u001b[39;49m\u001b[43meven\u001b[49m\u001b[43m(\u001b[49m\u001b[43m[\u001b[49m\u001b[38;5;241;43m1\u001b[39;49m\u001b[43m,\u001b[49m\u001b[38;5;241;43m2\u001b[39;49m\u001b[43m,\u001b[49m\u001b[38;5;241;43m3\u001b[39;49m\u001b[43m,\u001b[49m\u001b[38;5;241;43m4\u001b[39;49m\u001b[43m,\u001b[49m\u001b[38;5;241;43m5\u001b[39;49m\u001b[43m,\u001b[49m\u001b[38;5;241;43m66\u001b[39;49m\u001b[43m,\u001b[49m\u001b[38;5;241;43m7\u001b[39;49m\u001b[43m,\u001b[49m\u001b[38;5;241;43m99\u001b[39;49m\u001b[43m]\u001b[49m\u001b[43m)\u001b[49m\n",
      "\u001b[1;31mTypeError\u001b[0m: list.even() missing 1 required positional argument: 'l'"
     ]
    }
   ],
   "source": [
    "list1.even([1,2,3,4,5,66,7,99])"
   ]
  },
  {
   "cell_type": "code",
   "execution_count": 45,
   "id": "24babbcb-8cbd-4bdf-b1b7-f8c874a4d94f",
   "metadata": {},
   "outputs": [],
   "source": [
    "#i dont know why its showing so"
   ]
  },
  {
   "cell_type": "code",
   "execution_count": 46,
   "id": "6edb8bfd-db43-4a62-abc6-220075ff0021",
   "metadata": {},
   "outputs": [],
   "source": [
    "#here l is the attribute\n"
   ]
  },
  {
   "cell_type": "code",
   "execution_count": 10,
   "id": "d45371e7-28f0-40aa-9311-deb82e99366b",
   "metadata": {},
   "outputs": [],
   "source": [
    "class list:\n",
    "    def _init_(self,l): #magic method\n",
    "        self.l = l\n",
    "        \n",
    "    def even(self):\n",
    "        l=self.l#here only self should be given not l\n",
    "        l1 = []\n",
    "        for i in l:\n",
    "            if i%2==0:\n",
    "                l1.append(i)\n",
    "        return l1\n",
    "    def odd(self):\n",
    "        l=self.l#we should add this step\n",
    "        l1 = []\n",
    "        for i in l:\n",
    "            if i%2 !=0:\n",
    "                l1.append(i)\n",
    "        return l1"
   ]
  },
  {
   "cell_type": "code",
   "execution_count": 11,
   "id": "27487a78-ef5c-425d-b4d3-fa43510d1051",
   "metadata": {},
   "outputs": [],
   "source": [
    "a = list() # it shiuld throw error as we havent given any argments"
   ]
  },
  {
   "cell_type": "code",
   "execution_count": 12,
   "id": "0820bf4f-4dfc-478b-9ea3-9ea57dc7647a",
   "metadata": {},
   "outputs": [],
   "source": [
    "#its not working for me, lets ask this in live class"
   ]
  },
  {
   "cell_type": "code",
   "execution_count": null,
   "id": "1b2f8be4-20bc-4a9a-954c-43124a7b68aa",
   "metadata": {},
   "outputs": [],
   "source": []
  },
  {
   "cell_type": "code",
   "execution_count": null,
   "id": "2717b740-afcb-428d-801c-880270a847e4",
   "metadata": {},
   "outputs": [],
   "source": []
  },
  {
   "cell_type": "code",
   "execution_count": null,
   "id": "ec523db8-d0c4-4e3a-bae6-68237d6d36cd",
   "metadata": {},
   "outputs": [],
   "source": []
  },
  {
   "cell_type": "code",
   "execution_count": null,
   "id": "ade0c5b4-9406-4e03-8fe0-e739c54813cd",
   "metadata": {},
   "outputs": [],
   "source": []
  },
  {
   "cell_type": "code",
   "execution_count": null,
   "id": "908707c8-4c34-421f-be7a-2955afdf59de",
   "metadata": {},
   "outputs": [],
   "source": []
  },
  {
   "cell_type": "markdown",
   "id": "789fe72f-1bbe-4251-9ac0-e3f228073da3",
   "metadata": {},
   "source": [
    "Inheritance and abstraction"
   ]
  },
  {
   "cell_type": "code",
   "execution_count": 1,
   "id": "efa68678-8a3b-4208-8d14-eb309a25b764",
   "metadata": {},
   "outputs": [],
   "source": [
    "#referes to receiving teh properties of parent class\n",
    "#class base clASS:\n",
    "#body of base ckass\n",
    "#class derievedclass(base class)"
   ]
  },
  {
   "cell_type": "code",
   "execution_count": 2,
   "id": "4ae0f446-a2e0-4eb1-a5eb-b23b46fd9f9d",
   "metadata": {},
   "outputs": [],
   "source": [
    "#single inheritence\n",
    "class father:\n",
    "    def father_property(self):\n",
    "        print(\"this is fathers property\")"
   ]
  },
  {
   "cell_type": "code",
   "execution_count": 3,
   "id": "9406bd58-9253-4fe1-96e2-99dde1b6669c",
   "metadata": {},
   "outputs": [],
   "source": [
    "class child(father):#as it is a derived class it should have father entered\n",
    "    def child_property(self):\n",
    "        print(\"son has a job\")\n",
    "        "
   ]
  },
  {
   "cell_type": "code",
   "execution_count": 5,
   "id": "373e4f43-8a3f-44b5-8017-ffa9ed4fdda6",
   "metadata": {},
   "outputs": [],
   "source": [
    "#so here now son has both function of dad and himself\n",
    "child_income=child()"
   ]
  },
  {
   "cell_type": "code",
   "execution_count": 6,
   "id": "66c53855-4e96-4384-b8a6-b73cb55f8c31",
   "metadata": {},
   "outputs": [
    {
     "name": "stdout",
     "output_type": "stream",
     "text": [
      "son has a job\n"
     ]
    }
   ],
   "source": [
    "child_income.child_property()"
   ]
  },
  {
   "cell_type": "code",
   "execution_count": 7,
   "id": "4b3f7b19-8bf0-4b5d-bb21-0f0d12e3fb74",
   "metadata": {},
   "outputs": [
    {
     "name": "stdout",
     "output_type": "stream",
     "text": [
      "this is fathers property\n"
     ]
    }
   ],
   "source": [
    "child_income.father_property()"
   ]
  },
  {
   "cell_type": "code",
   "execution_count": 9,
   "id": "99d878c5-48dd-4721-b423-a6f604dc9680",
   "metadata": {},
   "outputs": [],
   "source": [
    "#therefore all trait of father can be accessd by son\n",
    "#but father doesnt hav access to sob traits"
   ]
  },
  {
   "cell_type": "code",
   "execution_count": 10,
   "id": "5cd9ce66-75a0-4ccf-91ac-a788184e3554",
   "metadata": {},
   "outputs": [],
   "source": [
    "#if we have same function in base class and derieved class.  the fist preference will be given to the function under the given class\n",
    "#this is known as method overriding\n",
    "#derived class has all power to override base class"
   ]
  },
  {
   "cell_type": "code",
   "execution_count": null,
   "id": "b566f6a3-9a03-4903-8ab0-94b7d3ad4733",
   "metadata": {},
   "outputs": [],
   "source": []
  },
  {
   "cell_type": "code",
   "execution_count": 11,
   "id": "ea659e3c-9d4a-428e-85d4-0dac23b6c056",
   "metadata": {},
   "outputs": [],
   "source": [
    "#multi-level inheritence"
   ]
  },
  {
   "cell_type": "code",
   "execution_count": 12,
   "id": "444e834b-f48d-4976-b530-6b505681c69b",
   "metadata": {},
   "outputs": [],
   "source": [
    "class grandfather:\n",
    "    def grandfather_property(self):\n",
    "        print(\"its grand father's property\")\n",
    "class father(grandfather):\n",
    "    def father_property(self):\n",
    "        print(\"its fathers property\")\n",
    "class son(father):\n",
    "    def son_property(self):\n",
    "        print(\"its my property\")\n",
    "    "
   ]
  },
  {
   "cell_type": "code",
   "execution_count": 13,
   "id": "0da609be-91af-4af3-be85-0bd435dab9e9",
   "metadata": {},
   "outputs": [],
   "source": [
    "son_income=son()"
   ]
  },
  {
   "cell_type": "code",
   "execution_count": 14,
   "id": "763d942a-38d2-4341-a3af-5f6a3de313ec",
   "metadata": {},
   "outputs": [
    {
     "name": "stdout",
     "output_type": "stream",
     "text": [
      "its grand father's property\n"
     ]
    }
   ],
   "source": [
    "son_income.grandfather_property()"
   ]
  },
  {
   "cell_type": "code",
   "execution_count": 15,
   "id": "cbb304e6-2b13-40d4-bdde-625f5b53d983",
   "metadata": {},
   "outputs": [
    {
     "name": "stdout",
     "output_type": "stream",
     "text": [
      "its fathers property\n"
     ]
    }
   ],
   "source": [
    "son_income.father_property()"
   ]
  },
  {
   "cell_type": "code",
   "execution_count": 16,
   "id": "51e179cd-b523-47fa-ab80-9359ad6e23fe",
   "metadata": {},
   "outputs": [
    {
     "name": "stdout",
     "output_type": "stream",
     "text": [
      "its my property\n"
     ]
    }
   ],
   "source": [
    "son_income.son_property()"
   ]
  },
  {
   "cell_type": "code",
   "execution_count": 18,
   "id": "93dbe3e5-478e-4b35-a240-ea26d01c04dd",
   "metadata": {},
   "outputs": [],
   "source": [
    "#therefore the son has all property of father and grandfather and father has both his and grandfather property"
   ]
  },
  {
   "cell_type": "code",
   "execution_count": 19,
   "id": "ee42fc6b-a1b6-4d2e-873b-2a4cfa8f5c6c",
   "metadata": {},
   "outputs": [],
   "source": [
    "#method overrinding, son class is very powerful\n"
   ]
  },
  {
   "cell_type": "code",
   "execution_count": null,
   "id": "4f98b99e-60e0-404b-a369-0dedaa75a8d4",
   "metadata": {},
   "outputs": [],
   "source": []
  },
  {
   "cell_type": "code",
   "execution_count": 20,
   "id": "56b28b5f-2ec7-48a5-bd96-58225130bdcb",
   "metadata": {},
   "outputs": [],
   "source": [
    "#multiple inheritance>>one child class may inherit the property of multiple parent class"
   ]
  },
  {
   "cell_type": "code",
   "execution_count": 22,
   "id": "7961209e-2fb5-436c-a126-c90273372d67",
   "metadata": {},
   "outputs": [],
   "source": [
    "class grandfather:\n",
    "    def grandfather_property(self):\n",
    "        print(\"its grand father's property\")\n",
    "class father:\n",
    "    def father_property(self):\n",
    "        print(\"its fathers property\")\n",
    "class son(grandfather,father):\n",
    "    def son_property(self):\n",
    "        print(\"its my property\")"
   ]
  },
  {
   "cell_type": "code",
   "execution_count": 23,
   "id": "5a60be2b-cba5-4d12-bab5-7d8ed4005d03",
   "metadata": {},
   "outputs": [
    {
     "name": "stdout",
     "output_type": "stream",
     "text": [
      "its my property\n"
     ]
    }
   ],
   "source": [
    "#here father and grandfather are independent a son has both of their trait.thos uses MRO algorithm\n",
    "son_expense=son()\n",
    "son_expense.son_property()"
   ]
  },
  {
   "cell_type": "code",
   "execution_count": 27,
   "id": "3231728e-76c5-49d1-943c-40f06da920f1",
   "metadata": {},
   "outputs": [],
   "source": [
    "#son has all 3 property\n",
    "#if both fathe and grandfather function are named same the 1st variable entered for son will be excecuted this is knoiwn as diamond situation\n",
    "class grandfather:\n",
    "    def property(self):\n",
    "        print(\"its grand father's property\")\n",
    "class father:\n",
    "    def property(self):\n",
    "        print(\"its fathers property\")\n",
    "class son(grandfather,father):\n",
    "    def son_property(self):\n",
    "        print(\"its my property\")"
   ]
  },
  {
   "cell_type": "code",
   "execution_count": 29,
   "id": "8df933fd-8ba2-49d6-bf68-077061ec65f4",
   "metadata": {},
   "outputs": [],
   "source": [
    "son_expense=son()"
   ]
  },
  {
   "cell_type": "code",
   "execution_count": 31,
   "id": "cfab678e-84fd-4e15-b9fe-5d6cccbae4b6",
   "metadata": {},
   "outputs": [
    {
     "name": "stdout",
     "output_type": "stream",
     "text": [
      "its grand father's property\n"
     ]
    }
   ],
   "source": [
    "son_expense.property()#as grand father was the 1st input for son"
   ]
  },
  {
   "cell_type": "code",
   "execution_count": null,
   "id": "1ef15abb-7c45-4ce8-9e2f-c2d3ca8f2dd8",
   "metadata": {},
   "outputs": [],
   "source": []
  },
  {
   "cell_type": "code",
   "execution_count": 32,
   "id": "3ac612bf-afcc-4d82-9ff9-be8bd23497cd",
   "metadata": {},
   "outputs": [],
   "source": [
    "#hierarchial inheritance>> one parent class and morethan 2 childclass\n",
    "class vehicle:\n",
    "    def info(self):\n",
    "        print(\"this is vehicle\")\n",
    "class car(vehicle):\n",
    "    def car_info(self,name):\n",
    "        print(\"this is car\",name)\n",
    "class truck(vehicle):\n",
    "    def truck_info(vehicle):\n",
    "        print(\"this is truck\",name)"
   ]
  },
  {
   "cell_type": "code",
   "execution_count": 33,
   "id": "38aada4e-e42a-498a-8b63-0035fd97d4f4",
   "metadata": {},
   "outputs": [
    {
     "name": "stdout",
     "output_type": "stream",
     "text": [
      "this is car benz\n"
     ]
    }
   ],
   "source": [
    "c1=car()\n",
    "c1.car_info(\"benz\")"
   ]
  },
  {
   "cell_type": "code",
   "execution_count": null,
   "id": "759c0e22-3d4c-470c-b48e-7b54eacca970",
   "metadata": {},
   "outputs": [],
   "source": []
  },
  {
   "cell_type": "code",
   "execution_count": 36,
   "id": "986ebc49-1c40-44cd-9887-16e19278c203",
   "metadata": {},
   "outputs": [],
   "source": [
    "#hybrid inheritence >>multiple types or combination of different inheritance\n",
    "#this is same and there can be combination of anykind of class or abjective\n",
    "class vehicle:\n",
    "    def info(self):\n",
    "        print(\"this is vehicle\")\n",
    "class car(vehicle):\n",
    "    def car_info(self,name):\n",
    "        print(\"this is car\",name)\n",
    "class truck(vehicle):\n",
    "    def truck_info(vehicle):\n",
    "        print(\"this is truck\",name)\n",
    "class sportscar(car,vehicle):\n",
    "    def sportscar_info(self,name):\n",
    "        print(\"this is a car for sports\",name)"
   ]
  },
  {
   "cell_type": "code",
   "execution_count": 37,
   "id": "3722cf69-bac3-4ab6-84db-499774c42943",
   "metadata": {},
   "outputs": [
    {
     "name": "stdout",
     "output_type": "stream",
     "text": [
      "this is a car for sports scorpio\n"
     ]
    }
   ],
   "source": [
    "c2=sportscar()\n",
    "c2.sportscar_info(\"scorpio\")"
   ]
  },
  {
   "cell_type": "code",
   "execution_count": null,
   "id": "82030cde-eb89-4acd-a5cd-dd5359123ec3",
   "metadata": {},
   "outputs": [],
   "source": []
  },
  {
   "cell_type": "markdown",
   "id": "b09c7d19-95ba-4e82-b6da-e0def4284d3a",
   "metadata": {},
   "source": [
    "abstraction"
   ]
  },
  {
   "cell_type": "code",
   "execution_count": 38,
   "id": "36dfa645-5629-43d4-9a6f-eaadd6f5196d",
   "metadata": {},
   "outputs": [],
   "source": [
    "#it is hiding unneeded details and exposing the required\n",
    "#abstract should always be sub classed\n",
    "#abstract may contain method that are just declared and not required in abstract class, subclass are responsible for implementing theese abstract\n",
    "#id in inherited class a method is not present from abstract class it will not throw any error\n"
   ]
  },
  {
   "cell_type": "code",
   "execution_count": 39,
   "id": "07fe4415-a340-4c1c-880a-809f2158b8d9",
   "metadata": {},
   "outputs": [],
   "source": [
    "#abstraction can be acheived using abstract class by importing abc\n",
    "import abc"
   ]
  },
  {
   "cell_type": "code",
   "execution_count": 40,
   "id": "fafc06ff-7aaa-4645-aff7-7fcab88cb4cc",
   "metadata": {},
   "outputs": [],
   "source": [
    "#it should be asked in live class, it doesnt make sense to me"
   ]
  },
  {
   "cell_type": "code",
   "execution_count": null,
   "id": "4000461b-11a9-4eef-9df8-12e74b6ea4d3",
   "metadata": {},
   "outputs": [],
   "source": []
  },
  {
   "cell_type": "code",
   "execution_count": null,
   "id": "abbdee65-f037-4ae8-a4c3-112e28e3410e",
   "metadata": {},
   "outputs": [],
   "source": []
  },
  {
   "cell_type": "code",
   "execution_count": null,
   "id": "63ccc39a-8e9f-45eb-9ded-fbf068ff7ef2",
   "metadata": {},
   "outputs": [],
   "source": []
  },
  {
   "cell_type": "code",
   "execution_count": null,
   "id": "8e03f8f3-afed-4135-82b8-cc83f9918775",
   "metadata": {},
   "outputs": [],
   "source": []
  },
  {
   "cell_type": "markdown",
   "id": "c5be9a95-d054-4118-8361-2a63d7f13f39",
   "metadata": {},
   "source": [
    "Polymorphism and Encapsulation"
   ]
  },
  {
   "cell_type": "code",
   "execution_count": 41,
   "id": "f3c26132-b99c-49bb-8821-c36fb4158f21",
   "metadata": {},
   "outputs": [],
   "source": [
    "#polymorphism>>refers o an object taking forms depending on the methods/dat\n",
    "def func(a,b):\n",
    "    return a+b"
   ]
  },
  {
   "cell_type": "code",
   "execution_count": 42,
   "id": "fc925d35-cf21-4faf-9e22-8f3c24a04a35",
   "metadata": {},
   "outputs": [
    {
     "data": {
      "text/plain": [
       "9"
      ]
     },
     "execution_count": 42,
     "metadata": {},
     "output_type": "execute_result"
    }
   ],
   "source": [
    "func(4,5)"
   ]
  },
  {
   "cell_type": "code",
   "execution_count": 43,
   "id": "b83f5d51-cbf6-4ce6-a490-3538d7325f93",
   "metadata": {},
   "outputs": [
    {
     "data": {
      "text/plain": [
       "'devika rani'"
      ]
     },
     "execution_count": 43,
     "metadata": {},
     "output_type": "execute_result"
    }
   ],
   "source": [
    "func(\"devika\",\" rani\")"
   ]
  },
  {
   "cell_type": "code",
   "execution_count": 44,
   "id": "d0ccdd57-1aeb-4f6e-a7a8-52cba5bbe8df",
   "metadata": {},
   "outputs": [],
   "source": [
    "#here func is polumorph as it is doing work of addition and concatination"
   ]
  },
  {
   "cell_type": "code",
   "execution_count": 46,
   "id": "1b7ee9a7-4935-4ca9-8848-8d6a19683c13",
   "metadata": {},
   "outputs": [],
   "source": [
    "class teacher:\n",
    "    def teaching_info():\n",
    "        print(\"according to teachjers\")\n",
    "class students:\n",
    "    def teaching_info():\n",
    "        print(\"according to students\")"
   ]
  },
  {
   "cell_type": "code",
   "execution_count": 47,
   "id": "a57bc83f-c302-427e-b83a-723d779a3c40",
   "metadata": {},
   "outputs": [],
   "source": [
    "a=teacher()\n",
    "b=students()\n",
    "c=[a,b]"
   ]
  },
  {
   "cell_type": "code",
   "execution_count": 50,
   "id": "7ec70cfe-3304-4cb3-9d64-086c569d2dbc",
   "metadata": {},
   "outputs": [],
   "source": [
    "def parcer(c):\n",
    "    for i in c:\n",
    "        i.teaching_info()"
   ]
  },
  {
   "cell_type": "code",
   "execution_count": 51,
   "id": "2b21d760-3a1a-4caa-bd73-fb7e741a09c7",
   "metadata": {},
   "outputs": [
    {
     "ename": "TypeError",
     "evalue": "teacher.teaching_info() takes 0 positional arguments but 1 was given",
     "output_type": "error",
     "traceback": [
      "\u001b[1;31m---------------------------------------------------------------------------\u001b[0m",
      "\u001b[1;31mTypeError\u001b[0m                                 Traceback (most recent call last)",
      "Cell \u001b[1;32mIn[51], line 1\u001b[0m\n\u001b[1;32m----> 1\u001b[0m \u001b[43mparcer\u001b[49m\u001b[43m(\u001b[49m\u001b[43mc\u001b[49m\u001b[43m)\u001b[49m\n",
      "Cell \u001b[1;32mIn[50], line 3\u001b[0m, in \u001b[0;36mparcer\u001b[1;34m(c)\u001b[0m\n\u001b[0;32m      1\u001b[0m \u001b[38;5;28;01mdef\u001b[39;00m \u001b[38;5;21mparcer\u001b[39m(c):\n\u001b[0;32m      2\u001b[0m     \u001b[38;5;28;01mfor\u001b[39;00m i \u001b[38;5;129;01min\u001b[39;00m c:\n\u001b[1;32m----> 3\u001b[0m         \u001b[43mi\u001b[49m\u001b[38;5;241;43m.\u001b[39;49m\u001b[43mteaching_info\u001b[49m\u001b[43m(\u001b[49m\u001b[43m)\u001b[49m\n",
      "\u001b[1;31mTypeError\u001b[0m: teacher.teaching_info() takes 0 positional arguments but 1 was given"
     ]
    }
   ],
   "source": [
    "parcer(c)"
   ]
  },
  {
   "cell_type": "code",
   "execution_count": 1,
   "id": "c98ad357-310b-4721-afef-3b6a89206cc1",
   "metadata": {},
   "outputs": [],
   "source": [
    "#here actually teaching info should take 2 forms which is poly morphing\n",
    "#polymorph is takin in 2 methods, overloading and overriding. python wont support over loading\n"
   ]
  },
  {
   "cell_type": "code",
   "execution_count": 2,
   "id": "5386f7db-2b88-49c1-b614-50de5d6fc533",
   "metadata": {},
   "outputs": [],
   "source": [
    "#method overloading\n",
    "#inside one class there will be more same methoods\n",
    "class student():\n",
    "    def student(self):\n",
    "        print(\"welcome\")\n",
    "    def student(self,name =\"\"):\n",
    "        print(\"welcome\",name)\n",
    "    def student(self, name=\"\",course=\"\"):\n",
    "        print(\"welcome\",name,\"to\",course)\n"
   ]
  },
  {
   "cell_type": "code",
   "execution_count": 3,
   "id": "dc9fa00f-38a4-4a17-8bbc-4d00382c05b9",
   "metadata": {},
   "outputs": [],
   "source": [
    "stud=student()"
   ]
  },
  {
   "cell_type": "code",
   "execution_count": 4,
   "id": "0f94eb04-6fa6-4020-856a-7204550c65a3",
   "metadata": {},
   "outputs": [
    {
     "name": "stdout",
     "output_type": "stream",
     "text": [
      "welcome  to \n"
     ]
    }
   ],
   "source": [
    "stud.student()"
   ]
  },
  {
   "cell_type": "code",
   "execution_count": 6,
   "id": "4db74510-c726-4eb6-8e5e-3a185542e610",
   "metadata": {},
   "outputs": [
    {
     "name": "stdout",
     "output_type": "stream",
     "text": [
      "welcome devika to \n"
     ]
    }
   ],
   "source": [
    "stud.student(\"devika\")"
   ]
  },
  {
   "cell_type": "code",
   "execution_count": 7,
   "id": "61a64884-0bd0-42fd-a871-1d594039c1c3",
   "metadata": {},
   "outputs": [],
   "source": [
    "#here same function is used to define diff methods under same class\n",
    "#therefore last methods overloads everymethood\n",
    "class student():\n",
    "    def student(self, name=\"\",course=\"\"):\n",
    "        print(\"welcome\",name,\"to\",course)"
   ]
  },
  {
   "cell_type": "code",
   "execution_count": 8,
   "id": "45a90379-cd05-46d1-b677-bc5537bbd88c",
   "metadata": {},
   "outputs": [],
   "source": [
    "stud=student()"
   ]
  },
  {
   "cell_type": "code",
   "execution_count": 9,
   "id": "7b58cb94-cec2-42f0-9683-1527b21223d0",
   "metadata": {},
   "outputs": [
    {
     "name": "stdout",
     "output_type": "stream",
     "text": [
      "welcome devika to datascience\n"
     ]
    }
   ],
   "source": [
    "stud.student(\"devika\",\"datascience\")"
   ]
  },
  {
   "cell_type": "code",
   "execution_count": 10,
   "id": "274310cf-0085-4ae6-a469-a21314f8ff62",
   "metadata": {},
   "outputs": [
    {
     "name": "stdout",
     "output_type": "stream",
     "text": [
      "welcome datascience to \n"
     ]
    }
   ],
   "source": [
    "stud.student(\"datascience\")"
   ]
  },
  {
   "cell_type": "code",
   "execution_count": 11,
   "id": "20b354aa-bf03-47c8-a054-cbadfd4f8b6b",
   "metadata": {},
   "outputs": [],
   "source": [
    "#method overloading happens in same class\n",
    "#overriding is done already"
   ]
  },
  {
   "cell_type": "code",
   "execution_count": null,
   "id": "a769f86a-9eea-4af7-9cb8-d8a094b80b50",
   "metadata": {},
   "outputs": [],
   "source": []
  },
  {
   "cell_type": "code",
   "execution_count": 12,
   "id": "c31c8e35-6852-4ae9-92cc-9ec6f0d46452",
   "metadata": {},
   "outputs": [],
   "source": [
    "#encapsulation>>means hiding something or bundling if data or methods\n",
    "#access modifier"
   ]
  },
  {
   "cell_type": "code",
   "execution_count": 21,
   "id": "26714912-a693-4552-9ddf-dc0adada87af",
   "metadata": {},
   "outputs": [],
   "source": [
    "#any data can be made private by making it self.__\n",
    "class student:\n",
    "    def __init__(self,name,degree):\n",
    "        self.name=name\n",
    "        self.__degree=degree"
   ]
  },
  {
   "cell_type": "code",
   "execution_count": 22,
   "id": "a5e34a73-5a31-4dcd-9b81-a83bbc543abe",
   "metadata": {},
   "outputs": [],
   "source": [
    "dev=student(\"devika\",\"MBA\")"
   ]
  },
  {
   "cell_type": "code",
   "execution_count": 15,
   "id": "643dc405-6d2a-4346-bfaf-ce74c915d147",
   "metadata": {},
   "outputs": [],
   "source": [
    "#there is some error hapenning. by using__ the data will get private and no one can cgange it"
   ]
  },
  {
   "cell_type": "code",
   "execution_count": 23,
   "id": "cbbe3f8d-f4fb-4674-954d-87a368c8d3a7",
   "metadata": {},
   "outputs": [
    {
     "data": {
      "text/plain": [
       "'MBA'"
      ]
     },
     "execution_count": 23,
     "metadata": {},
     "output_type": "execute_result"
    }
   ],
   "source": [
    "#to access degree we can use follow tric\n",
    "dev._student__degree #it is used in real, i hace sime issue in python its showing error"
   ]
  },
  {
   "cell_type": "code",
   "execution_count": 7,
   "id": "034c92ea-1dca-4696-bdaa-56b18cb396b9",
   "metadata": {},
   "outputs": [],
   "source": [
    "#even method or function can also be made private\n",
    "class girls:\n",
    "    def __tall():\n",
    "        print(\"tall girls are pretty\")\n",
    "    def chubby():\n",
    "        print(\"chubby girls are sexy\") #noe this method is private"
   ]
  },
  {
   "cell_type": "code",
   "execution_count": 8,
   "id": "bec134d2-9648-4bfe-809e-ad3816c07df0",
   "metadata": {},
   "outputs": [],
   "source": [
    "devika=girls()"
   ]
  },
  {
   "cell_type": "code",
   "execution_count": 9,
   "id": "9749ad63-dab5-4704-a664-da783236e62e",
   "metadata": {},
   "outputs": [
    {
     "ename": "AttributeError",
     "evalue": "'girls' object has no attribute 'tall'",
     "output_type": "error",
     "traceback": [
      "\u001b[1;31m---------------------------------------------------------------------------\u001b[0m",
      "\u001b[1;31mAttributeError\u001b[0m                            Traceback (most recent call last)",
      "Cell \u001b[1;32mIn[9], line 1\u001b[0m\n\u001b[1;32m----> 1\u001b[0m \u001b[43mdevika\u001b[49m\u001b[38;5;241;43m.\u001b[39;49m\u001b[43mtall\u001b[49m()\n",
      "\u001b[1;31mAttributeError\u001b[0m: 'girls' object has no attribute 'tall'"
     ]
    }
   ],
   "source": [
    "devika.tall()"
   ]
  },
  {
   "cell_type": "code",
   "execution_count": 10,
   "id": "54e60d52-9763-4df8-b9c5-d22dd76ff062",
   "metadata": {},
   "outputs": [
    {
     "ename": "TypeError",
     "evalue": "girls.__tall() takes 0 positional arguments but 1 was given",
     "output_type": "error",
     "traceback": [
      "\u001b[1;31m---------------------------------------------------------------------------\u001b[0m",
      "\u001b[1;31mTypeError\u001b[0m                                 Traceback (most recent call last)",
      "Cell \u001b[1;32mIn[10], line 2\u001b[0m\n\u001b[0;32m      1\u001b[0m \u001b[38;5;66;03m#it will show error as it is private, to access it follow belove methood\u001b[39;00m\n\u001b[1;32m----> 2\u001b[0m \u001b[43mdevika\u001b[49m\u001b[38;5;241;43m.\u001b[39;49m\u001b[43m \u001b[49m\u001b[43m_girls__tall\u001b[49m\u001b[43m(\u001b[49m\u001b[43m)\u001b[49m\n",
      "\u001b[1;31mTypeError\u001b[0m: girls.__tall() takes 0 positional arguments but 1 was given"
     ]
    }
   ],
   "source": [
    "#it will show error as it is private, to access it follow belove methood\n",
    "devika. _girls__tall()"
   ]
  },
  {
   "cell_type": "code",
   "execution_count": 19,
   "id": "17205561-ff57-4ea0-b66b-6c435d895b78",
   "metadata": {},
   "outputs": [],
   "source": [
    "#it should show, i dont know why its not showing\n",
    "class girls:\n",
    "    def __init__(self, age, height, weight, qualification):\n",
    "        self._age=age\n",
    "        self._height=height\n",
    "        self._weight=weight\n",
    "        self._qualification=qualification"
   ]
  },
  {
   "cell_type": "code",
   "execution_count": 20,
   "id": "6d14e00d-4cab-4ce2-a2de-5ab3185c602b",
   "metadata": {},
   "outputs": [],
   "source": [
    "reeta = girls(42, 5.5, 80, \"phd\")"
   ]
  },
  {
   "cell_type": "code",
   "execution_count": 17,
   "id": "c951f89b-705f-49f7-bd83-28e7b8070650",
   "metadata": {},
   "outputs": [],
   "source": [
    "#way of modifying private data\n",
    "class girls:\n",
    "    def __init__(self, age, height, weight, qualification):\n",
    "        self.__age=age\n",
    "        self.__height=height\n",
    "        self.__weight=weight\n",
    "        self.__qualification=qualification\n",
    "    def set_weight(self,weight):\n",
    "        self._weight= 40 if weight<40 else weight\n",
    "    def get_weight(self):\n",
    "        return self.__weight"
   ]
  },
  {
   "cell_type": "code",
   "execution_count": 18,
   "id": "7f9eec0f-e1c6-4eea-bc13-47c18ec2f2d3",
   "metadata": {},
   "outputs": [
    {
     "data": {
      "text/plain": [
       "80"
      ]
     },
     "execution_count": 18,
     "metadata": {},
     "output_type": "execute_result"
    }
   ],
   "source": [
    "reeta = girls(42, 5.5, 80, \"phd\")\n",
    "reeta.get_weight()"
   ]
  },
  {
   "cell_type": "code",
   "execution_count": 24,
   "id": "67fbb2ef-efe4-4672-b330-5b8a04b5d8cc",
   "metadata": {},
   "outputs": [],
   "source": [
    "#_init_  is wrong, __init__ is right"
   ]
  },
  {
   "cell_type": "code",
   "execution_count": 31,
   "id": "4f2b7ad6-0310-4bb1-991d-9fd3636efe5a",
   "metadata": {},
   "outputs": [],
   "source": [
    "class bank:\n",
    "    def __init__(self,balance):\n",
    "        self.__balance=balance\n",
    "    def deposite(self, amount):\n",
    "        self.__balance= self.__balance + amount\n",
    "    def withdraw(self, amount):\n",
    "        if self.__balance >= amount:\n",
    "            self.__balance = self.__balance - amount\n",
    "            return true\n",
    "        else:\n",
    "            return false\n",
    "    def get_balance(self):\n",
    "        return self.__balance\n",
    "            "
   ]
  },
  {
   "cell_type": "code",
   "execution_count": 32,
   "id": "3a1d6869-05e4-45ea-8c98-5aa8b56594f5",
   "metadata": {},
   "outputs": [],
   "source": [
    "dev = bank(1000)"
   ]
  },
  {
   "cell_type": "code",
   "execution_count": 33,
   "id": "f41771b9-2b88-4916-aa9d-a4b77693efed",
   "metadata": {},
   "outputs": [],
   "source": [
    "dev.deposite(5000)"
   ]
  },
  {
   "cell_type": "code",
   "execution_count": 34,
   "id": "96bac941-ad83-4a4e-bc61-ec4a305f5195",
   "metadata": {},
   "outputs": [
    {
     "data": {
      "text/plain": [
       "6000"
      ]
     },
     "execution_count": 34,
     "metadata": {},
     "output_type": "execute_result"
    }
   ],
   "source": [
    "dev.get_balance()"
   ]
  },
  {
   "cell_type": "code",
   "execution_count": 35,
   "id": "4412f440-a183-4235-bbab-587ccf20a6ed",
   "metadata": {},
   "outputs": [
    {
     "ename": "NameError",
     "evalue": "name 'false' is not defined",
     "output_type": "error",
     "traceback": [
      "\u001b[1;31m---------------------------------------------------------------------------\u001b[0m",
      "\u001b[1;31mNameError\u001b[0m                                 Traceback (most recent call last)",
      "Cell \u001b[1;32mIn[35], line 1\u001b[0m\n\u001b[1;32m----> 1\u001b[0m \u001b[43mdev\u001b[49m\u001b[38;5;241;43m.\u001b[39;49m\u001b[43mwithdraw\u001b[49m\u001b[43m(\u001b[49m\u001b[38;5;241;43m7000\u001b[39;49m\u001b[43m)\u001b[49m\n",
      "Cell \u001b[1;32mIn[31], line 11\u001b[0m, in \u001b[0;36mbank.withdraw\u001b[1;34m(self, amount)\u001b[0m\n\u001b[0;32m      9\u001b[0m     \u001b[38;5;28;01mreturn\u001b[39;00m true\n\u001b[0;32m     10\u001b[0m \u001b[38;5;28;01melse\u001b[39;00m:\n\u001b[1;32m---> 11\u001b[0m     \u001b[38;5;28;01mreturn\u001b[39;00m \u001b[43mfalse\u001b[49m\n",
      "\u001b[1;31mNameError\u001b[0m: name 'false' is not defined"
     ]
    }
   ],
   "source": [
    "dev.withdraw(7000)"
   ]
  },
  {
   "cell_type": "code",
   "execution_count": 41,
   "id": "2d82dc07-2f6f-4afd-acab-24072c35bdfe",
   "metadata": {},
   "outputs": [],
   "source": [
    "#protected method can be done by using one_\n",
    "class college:\n",
    "    def __init__(self):\n",
    "        self._college_name = \"JNV\"\n",
    "class student(college):\n",
    "    def __init__(self, name):\n",
    "        self.name=name\n",
    "        college.__init__(self)#this is method to access the base class\n",
    "    def show(self):\n",
    "        print(\"name\",self.name, \"college_name\", self._college_name)\n"
   ]
  },
  {
   "cell_type": "code",
   "execution_count": 38,
   "id": "8d5a31e5-2c9a-46d4-a28b-f75953abd591",
   "metadata": {},
   "outputs": [],
   "source": [
    "dev=college(\"JNV\")"
   ]
  },
  {
   "cell_type": "code",
   "execution_count": 42,
   "id": "239a74c0-21b1-4f5e-b69b-fec3ad8f743a",
   "metadata": {},
   "outputs": [],
   "source": [
    "dev=student(\"devika\")"
   ]
  },
  {
   "cell_type": "code",
   "execution_count": 43,
   "id": "64494582-c5c4-4f6f-90e8-5a8e4ece26d9",
   "metadata": {},
   "outputs": [
    {
     "name": "stdout",
     "output_type": "stream",
     "text": [
      "name devika college_name JNV\n"
     ]
    }
   ],
   "source": [
    "dev.show()"
   ]
  },
  {
   "cell_type": "code",
   "execution_count": null,
   "id": "565b7b3f-90ce-411c-9a73-81ab722c9056",
   "metadata": {},
   "outputs": [],
   "source": []
  },
  {
   "cell_type": "code",
   "execution_count": null,
   "id": "bf30481c-751d-4020-ae0a-5de48bd82580",
   "metadata": {},
   "outputs": [],
   "source": []
  },
  {
   "cell_type": "code",
   "execution_count": null,
   "id": "187bd7b3-baaa-481a-a54c-0a693a77523c",
   "metadata": {},
   "outputs": [],
   "source": [
    "\n",
    "\n",
    "\n"
   ]
  },
  {
   "cell_type": "code",
   "execution_count": null,
   "id": "ad850418-76d0-4a2b-80db-7ee65f6a1cca",
   "metadata": {},
   "outputs": [],
   "source": []
  },
  {
   "cell_type": "code",
   "execution_count": null,
   "id": "85d934c8-5dd5-45b5-937e-10a37f0b63ba",
   "metadata": {},
   "outputs": [],
   "source": []
  },
  {
   "cell_type": "markdown",
   "id": "fd66ae86-ffc4-478d-a833-178273a768cd",
   "metadata": {
    "jupyter": {
     "source_hidden": true
    }
   },
   "source": [
    "Class and static method"
   ]
  },
  {
   "cell_type": "code",
   "execution_count": 44,
   "id": "28df2fa3-2849-4e1e-9701-d68d50c93e8f",
   "metadata": {},
   "outputs": [],
   "source": [
    "#class method>> bound to the class, it can access methods and attribute associated to the class, \n",
    "#define @classmethod decorator\n",
    "#instead of self use cls\n",
    "#it is used to access the class directly without creatig objects\n",
    "class girls:\n",
    "    def __init__(self,name):\n",
    "        self.name=name\n",
    "    @classmethod \n",
    "    def student_detail(cls,name):#cls replaces self\n",
    "        return cls(name)\n"
   ]
  },
  {
   "cell_type": "code",
   "execution_count": 46,
   "id": "d8fd8d52-1264-4231-83f9-deae8c1a0e40",
   "metadata": {},
   "outputs": [],
   "source": [
    "obj1=girls.student_detail(\"devika\")"
   ]
  },
  {
   "cell_type": "code",
   "execution_count": 50,
   "id": "650a8029-08fd-4401-b643-7ee0ef58e04f",
   "metadata": {},
   "outputs": [
    {
     "data": {
      "text/plain": [
       "'devika'"
      ]
     },
     "execution_count": 50,
     "metadata": {},
     "output_type": "execute_result"
    }
   ],
   "source": [
    "obj1.name"
   ]
  },
  {
   "cell_type": "code",
   "execution_count": 68,
   "id": "0baf67cf-f09b-4dc1-a39a-e56071da9b8d",
   "metadata": {},
   "outputs": [],
   "source": [
    "#we r even storing data directly without init\n",
    "#class method over loads init \n",
    "#it is also alternative for init\n",
    "\n",
    "class family:\n",
    "    total_familymembers=0#this is class variable\n",
    "    def __init__(self,name):\n",
    "        self.name=name#instance variable\n",
    "        family.total_familymembers=family.total_familymembers+1\n",
    "    @classmethod\n",
    "    def get_total(cls):\n",
    "        return cls.total_familymembers"
   ]
  },
  {
   "cell_type": "code",
   "execution_count": 65,
   "id": "78ff70fa-c5bd-4127-a0d3-19cdca418def",
   "metadata": {},
   "outputs": [
    {
     "data": {
      "text/plain": [
       "0"
      ]
     },
     "execution_count": 65,
     "metadata": {},
     "output_type": "execute_result"
    }
   ],
   "source": [
    "family.get_total()"
   ]
  },
  {
   "cell_type": "code",
   "execution_count": 69,
   "id": "b0701f0b-26b2-490d-91e4-933d77e7c65d",
   "metadata": {},
   "outputs": [
    {
     "data": {
      "text/plain": [
       "0"
      ]
     },
     "execution_count": 69,
     "metadata": {},
     "output_type": "execute_result"
    }
   ],
   "source": [
    "family.total_familymembers"
   ]
  },
  {
   "cell_type": "code",
   "execution_count": 70,
   "id": "14dc13d9-5057-47b7-8946-247e3888afb8",
   "metadata": {},
   "outputs": [],
   "source": [
    "a=family(\"devika\")\n",
    "b=family(\"prithvi\")\n",
    "c=family=(\"mummy\")\n",
    "d=family=(\"pappa\")"
   ]
  },
  {
   "cell_type": "code",
   "execution_count": 71,
   "id": "13aa73be-d05c-4c10-8bb1-c1fe679c18ed",
   "metadata": {},
   "outputs": [
    {
     "data": {
      "text/plain": [
       "'devika'"
      ]
     },
     "execution_count": 71,
     "metadata": {},
     "output_type": "execute_result"
    }
   ],
   "source": [
    "a.name"
   ]
  },
  {
   "cell_type": "code",
   "execution_count": 73,
   "id": "425e2233-8255-4a6a-a9fa-74008800c8cc",
   "metadata": {},
   "outputs": [
    {
     "ename": "AttributeError",
     "evalue": "'str' object has no attribute 'get_total'",
     "output_type": "error",
     "traceback": [
      "\u001b[1;31m---------------------------------------------------------------------------\u001b[0m",
      "\u001b[1;31mAttributeError\u001b[0m                            Traceback (most recent call last)",
      "Cell \u001b[1;32mIn[73], line 1\u001b[0m\n\u001b[1;32m----> 1\u001b[0m \u001b[43mfamily\u001b[49m\u001b[38;5;241;43m.\u001b[39;49m\u001b[43mget_total\u001b[49m\n",
      "\u001b[1;31mAttributeError\u001b[0m: 'str' object has no attribute 'get_total'"
     ]
    }
   ],
   "source": [
    "family.get_total"
   ]
  },
  {
   "cell_type": "code",
   "execution_count": 74,
   "id": "f8315fec-ad89-490a-94bf-a92d9decbe32",
   "metadata": {},
   "outputs": [],
   "source": [
    "#to add some mwthod under the class\n",
    "class girls:\n",
    "    def __init__(self,name):\n",
    "        self.name=name\n",
    "    @classmethod \n",
    "    def student_detail(cls,name):#cls replaces self\n",
    "        return cls(name)"
   ]
  },
  {
   "cell_type": "code",
   "execution_count": 76,
   "id": "d2147b93-4a1b-40f2-97f5-fd5b05a1e1d0",
   "metadata": {},
   "outputs": [],
   "source": [
    "def girls_detail(cls,name):\n",
    "    print(name,\"is a girl\")"
   ]
  },
  {
   "cell_type": "code",
   "execution_count": 77,
   "id": "cfded8e1-59a6-4f10-b59f-5b7de0443ff6",
   "metadata": {},
   "outputs": [],
   "source": [
    "girls.girls_detail=classmethod(girls_detail)"
   ]
  },
  {
   "cell_type": "code",
   "execution_count": 79,
   "id": "08f6eb0d-ddd2-4b25-bfc7-a60baab4b1b8",
   "metadata": {},
   "outputs": [
    {
     "name": "stdout",
     "output_type": "stream",
     "text": [
      "devika is a girl\n"
     ]
    }
   ],
   "source": [
    "girls.girls_detail(\"devika\")#this is how new class method is added into a class"
   ]
  },
  {
   "cell_type": "code",
   "execution_count": 80,
   "id": "db1e0f45-88a2-46a9-bcaf-720246620ad1",
   "metadata": {},
   "outputs": [],
   "source": [
    "#to delete any class method\n",
    "del girls.girls_detail"
   ]
  },
  {
   "cell_type": "code",
   "execution_count": null,
   "id": "068f34be-a7f2-41e7-bb75-c3c14a56c8f6",
   "metadata": {},
   "outputs": [],
   "source": []
  },
  {
   "cell_type": "code",
   "execution_count": 83,
   "id": "f43bd3ad-32e3-4ca5-bfb9-352ededfe9cf",
   "metadata": {},
   "outputs": [],
   "source": [
    "#static method\n",
    "#doent modifyu class or instance state\n",
    "#behaves like plain function that belongs to class\n",
    "#doesnt take either self or cls\n",
    "#doent depend on class\n",
    "class students:\n",
    "    @staticmethod\n",
    "    def girls():\n",
    "        print(\"they r pretty\")\n",
    "    @staticmethod\n",
    "    def boys():\n",
    "        print(\"they r caring\")"
   ]
  },
  {
   "cell_type": "code",
   "execution_count": null,
   "id": "ef7e2978-eca7-4d5a-a076-c2010ff36761",
   "metadata": {},
   "outputs": [],
   "source": []
  },
  {
   "cell_type": "code",
   "execution_count": null,
   "id": "bac4ca07-333b-4e22-a7d0-75f88c18c725",
   "metadata": {},
   "outputs": [],
   "source": []
  },
  {
   "cell_type": "code",
   "execution_count": null,
   "id": "ec3b7a33-d660-4e4c-ab70-b9af74f5b9e5",
   "metadata": {},
   "outputs": [],
   "source": []
  },
  {
   "cell_type": "code",
   "execution_count": null,
   "id": "859d6663-5543-4e0b-9772-e71f2c193168",
   "metadata": {},
   "outputs": [],
   "source": []
  },
  {
   "cell_type": "code",
   "execution_count": null,
   "id": "e4ddc740-0f5d-4173-88f3-af51762089df",
   "metadata": {},
   "outputs": [],
   "source": []
  },
  {
   "cell_type": "code",
   "execution_count": null,
   "id": "218ff5b1-7e97-4a78-9121-c1fa21560e26",
   "metadata": {},
   "outputs": [],
   "source": []
  },
  {
   "cell_type": "code",
   "execution_count": null,
   "id": "e3a3bfe6-9612-4411-b196-8a8c58a1da97",
   "metadata": {},
   "outputs": [],
   "source": []
  },
  {
   "cell_type": "markdown",
   "id": "869f32de-b5dc-4e5b-91b1-d3887fe1adff",
   "metadata": {},
   "source": [
    "dunder method"
   ]
  },
  {
   "cell_type": "code",
   "execution_count": 84,
   "id": "44e94cc9-c489-4f64-812a-35c52f86afbc",
   "metadata": {},
   "outputs": [
    {
     "data": {
      "text/plain": [
       "['__add__',\n",
       " '__class__',\n",
       " '__contains__',\n",
       " '__delattr__',\n",
       " '__dir__',\n",
       " '__doc__',\n",
       " '__eq__',\n",
       " '__format__',\n",
       " '__ge__',\n",
       " '__getattribute__',\n",
       " '__getitem__',\n",
       " '__getnewargs__',\n",
       " '__getstate__',\n",
       " '__gt__',\n",
       " '__hash__',\n",
       " '__init__',\n",
       " '__init_subclass__',\n",
       " '__iter__',\n",
       " '__le__',\n",
       " '__len__',\n",
       " '__lt__',\n",
       " '__mod__',\n",
       " '__mul__',\n",
       " '__ne__',\n",
       " '__new__',\n",
       " '__reduce__',\n",
       " '__reduce_ex__',\n",
       " '__repr__',\n",
       " '__rmod__',\n",
       " '__rmul__',\n",
       " '__setattr__',\n",
       " '__sizeof__',\n",
       " '__str__',\n",
       " '__subclasshook__',\n",
       " 'capitalize',\n",
       " 'casefold',\n",
       " 'center',\n",
       " 'count',\n",
       " 'encode',\n",
       " 'endswith',\n",
       " 'expandtabs',\n",
       " 'find',\n",
       " 'format',\n",
       " 'format_map',\n",
       " 'index',\n",
       " 'isalnum',\n",
       " 'isalpha',\n",
       " 'isascii',\n",
       " 'isdecimal',\n",
       " 'isdigit',\n",
       " 'isidentifier',\n",
       " 'islower',\n",
       " 'isnumeric',\n",
       " 'isprintable',\n",
       " 'isspace',\n",
       " 'istitle',\n",
       " 'isupper',\n",
       " 'join',\n",
       " 'ljust',\n",
       " 'lower',\n",
       " 'lstrip',\n",
       " 'maketrans',\n",
       " 'partition',\n",
       " 'removeprefix',\n",
       " 'removesuffix',\n",
       " 'replace',\n",
       " 'rfind',\n",
       " 'rindex',\n",
       " 'rjust',\n",
       " 'rpartition',\n",
       " 'rsplit',\n",
       " 'rstrip',\n",
       " 'split',\n",
       " 'splitlines',\n",
       " 'startswith',\n",
       " 'strip',\n",
       " 'swapcase',\n",
       " 'title',\n",
       " 'translate',\n",
       " 'upper',\n",
       " 'zfill']"
      ]
     },
     "execution_count": 84,
     "metadata": {},
     "output_type": "execute_result"
    }
   ],
   "source": [
    "#dunder/magic/special methods are the methods defined by builtin classes in python\n",
    "#implementing operator overloading in python\n",
    "#dunder is double underscore\n",
    "#dunder methods associated with strings\n",
    "dir(str)"
   ]
  },
  {
   "cell_type": "code",
   "execution_count": 85,
   "id": "a5c9af80-4952-4c21-9709-15205616f7c4",
   "metadata": {},
   "outputs": [],
   "source": [
    "#it is used to create custom object\n",
    "#init is mostly used in coding\n",
    "#another is __new__ >>used to create new instance of class\n",
    "#__str__ will return string representation of method\n",
    "#__repr__ represents the object\n",
    "#__eg__ means == symbol"
   ]
  },
  {
   "cell_type": "code",
   "execution_count": 86,
   "id": "59d5b022-209a-4c04-882a-a8a6acec8781",
   "metadata": {},
   "outputs": [
    {
     "data": {
      "text/plain": [
       "False"
      ]
     },
     "execution_count": 86,
     "metadata": {},
     "output_type": "execute_result"
    }
   ],
   "source": [
    "a=2\n",
    "b=3\n",
    "a.__eq__(b)"
   ]
  },
  {
   "cell_type": "code",
   "execution_count": null,
   "id": "cc3a5fbb-3e12-4e23-b1c3-36e115e80778",
   "metadata": {},
   "outputs": [],
   "source": []
  },
  {
   "cell_type": "code",
   "execution_count": null,
   "id": "85832df1-0dd4-4d9e-ace7-a8f6ac8264c7",
   "metadata": {},
   "outputs": [],
   "source": []
  },
  {
   "cell_type": "code",
   "execution_count": null,
   "id": "dba0775d-bd5e-4290-850d-d7f599a76fbf",
   "metadata": {},
   "outputs": [],
   "source": []
  },
  {
   "cell_type": "code",
   "execution_count": null,
   "id": "e2704704-54e1-41e7-96bd-271b7aac69ec",
   "metadata": {},
   "outputs": [],
   "source": []
  },
  {
   "cell_type": "code",
   "execution_count": null,
   "id": "20470083-0341-4743-9573-2275db8345d6",
   "metadata": {},
   "outputs": [],
   "source": [
    "\n"
   ]
  },
  {
   "cell_type": "markdown",
   "id": "9a14a8a9-af3f-4368-954f-fab441f2b4ae",
   "metadata": {},
   "source": [
    "decoratores"
   ]
  },
  {
   "cell_type": "code",
   "execution_count": 87,
   "id": "e216dffe-ea47-473b-9219-2142a88d0692",
   "metadata": {},
   "outputs": [],
   "source": [
    "#decorating functions\n",
    "#it allowa to modify or extend behaviour of function withgout directlu modifying them"
   ]
  },
  {
   "cell_type": "code",
   "execution_count": 92,
   "id": "9bb1255b-a899-48b9-8122-ad45a3e118d5",
   "metadata": {},
   "outputs": [],
   "source": [
    "#function &class decorators\n",
    "def decoratore(func):#here funcc takes another func as argument\n",
    "    def creative():#this adds hi and bye\n",
    "        print(\"hello\")\n",
    "        func()\n",
    "        print(\"bye\")\n",
    "    return creative"
   ]
  },
  {
   "cell_type": "code",
   "execution_count": 96,
   "id": "d6137a1c-f526-4b7a-9042-0f9848209746",
   "metadata": {},
   "outputs": [],
   "source": [
    "#it wont be executed now, it should be used as decorator\n",
    "@decoratore\n",
    "def name():\n",
    "    print(\"devika\")"
   ]
  },
  {
   "cell_type": "code",
   "execution_count": 97,
   "id": "cc68ab38-2a71-4fd6-9a67-54eac4c1765b",
   "metadata": {},
   "outputs": [
    {
     "name": "stdout",
     "output_type": "stream",
     "text": [
      "hello\n",
      "devika\n",
      "bye\n"
     ]
    }
   ],
   "source": [
    "name()"
   ]
  },
  {
   "cell_type": "code",
   "execution_count": 98,
   "id": "fbc3118e-759a-4d3d-9504-06b5cf63e8e1",
   "metadata": {},
   "outputs": [],
   "source": [
    "#need of decorators\n",
    "#reusability od code\n",
    "#enhancing function without modifying function"
   ]
  },
  {
   "cell_type": "code",
   "execution_count": 99,
   "id": "7d420b92-a58e-4698-988c-cf638d76f351",
   "metadata": {},
   "outputs": [],
   "source": [
    "#class decorators\n",
    "class mydecorator:\n",
    "    def __init__(self,func):\n",
    "        self.func=func\n",
    "    def __call__(self):#call is used ehrn we call the object of a class as a function\n",
    "        print(\"hi\")\n",
    "        self.func()\n",
    "        print(\"bye\")"
   ]
  },
  {
   "cell_type": "code",
   "execution_count": 100,
   "id": "6602594a-65c1-4f06-8455-7a18bca3b98e",
   "metadata": {},
   "outputs": [],
   "source": [
    "@mydecorator\n",
    "def name():\n",
    "    print(\"dev\")"
   ]
  },
  {
   "cell_type": "code",
   "execution_count": 101,
   "id": "816ff927-d54f-4c6e-9537-71ea96640f90",
   "metadata": {},
   "outputs": [
    {
     "name": "stdout",
     "output_type": "stream",
     "text": [
      "hi\n",
      "dev\n",
      "bye\n"
     ]
    }
   ],
   "source": [
    "name()"
   ]
  },
  {
   "cell_type": "code",
   "execution_count": 1,
   "id": "008accc6-372b-4176-8acc-8511f89b41d6",
   "metadata": {},
   "outputs": [],
   "source": [
    "#if i had put a=mydecore, a is the object. to mske a as functiuon__call__ is used"
   ]
  },
  {
   "cell_type": "code",
   "execution_count": 2,
   "id": "db65df25-1da2-4754-976a-f9a286583e55",
   "metadata": {},
   "outputs": [],
   "source": [
    "#some inbuilt decorators\n",
    "#class method>> takes class as 1st argment\n",
    "#it is bound to class not the insstance of class\n",
    "#in static method there is not use of creating object and and using self or cls\n",
    "#class method is used in class level\n",
    "#static method used in other than class level\n",
    "#property decorator >>without using paranthesis(). by using @property while creating code"
   ]
  },
  {
   "cell_type": "code",
   "execution_count": null,
   "id": "693c22d7-213b-46d6-99cd-c23bc0dee99d",
   "metadata": {},
   "outputs": [],
   "source": []
  },
  {
   "cell_type": "code",
   "execution_count": 6,
   "id": "72efa776-e46d-4245-88cf-8c2c9e2b84ea",
   "metadata": {},
   "outputs": [],
   "source": [
    "#property decorators\n",
    "#it allows to use class method as an attribute\n",
    "#it can even modify the private data\n",
    "class mug:\n",
    "    def __init__(self,name,price):\n",
    "        self.__name=name\n",
    "        self.__price=price#now tghwy are private\n",
    "    @property\n",
    "    def access_price(self):\n",
    "        return self.__price\n",
    "    @access_price.setter\n",
    "    def price_set(self,new):\n",
    "        self.__price=new\n",
    "        "
   ]
  },
  {
   "cell_type": "code",
   "execution_count": 7,
   "id": "003d75a4-5c40-4d4c-b46b-f4801ef1bf15",
   "metadata": {},
   "outputs": [],
   "source": [
    "a=mug(\"long\",50)"
   ]
  },
  {
   "cell_type": "code",
   "execution_count": 8,
   "id": "b22d77a2-dce2-418a-a1fc-8644e5940db3",
   "metadata": {},
   "outputs": [
    {
     "data": {
      "text/plain": [
       "50"
      ]
     },
     "execution_count": 8,
     "metadata": {},
     "output_type": "execute_result"
    }
   ],
   "source": [
    "a.access_price"
   ]
  },
  {
   "cell_type": "code",
   "execution_count": 10,
   "id": "a3d69605-8cb8-4ff3-8530-45e8c9522a12",
   "metadata": {},
   "outputs": [],
   "source": [
    "a.price_set=100"
   ]
  },
  {
   "cell_type": "code",
   "execution_count": null,
   "id": "9c5a146c-13b1-4380-af22-bd69c2006c8c",
   "metadata": {},
   "outputs": [],
   "source": [
    "#this is how the data can be modified\n"
   ]
  },
  {
   "cell_type": "code",
   "execution_count": 13,
   "id": "9600d4ea-a6cd-4543-9f0a-861c84aacbc2",
   "metadata": {},
   "outputs": [],
   "source": [
    "#to delete\n",
    "class mug:\n",
    "    def __init__(self,name,price):\n",
    "        self.__name=name\n",
    "        self.__price=price#now tghwy are private\n",
    "    @property\n",
    "    def access_price(self):\n",
    "        return self.__price\n",
    "    @access_price.setter\n",
    "    def price_set(self,new):\n",
    "        self.__price=new\n",
    "    @access_price.deleter\n",
    "    def del_price(self):\n",
    "        del self.__price"
   ]
  },
  {
   "cell_type": "code",
   "execution_count": null,
   "id": "00b7e20d-b58d-45cc-99f0-6f7a04641bd9",
   "metadata": {},
   "outputs": [],
   "source": []
  }
 ],
 "metadata": {
  "kernelspec": {
   "display_name": "Python 3 (ipykernel)",
   "language": "python",
   "name": "python3"
  },
  "language_info": {
   "codemirror_mode": {
    "name": "ipython",
    "version": 3
   },
   "file_extension": ".py",
   "mimetype": "text/x-python",
   "name": "python",
   "nbconvert_exporter": "python",
   "pygments_lexer": "ipython3",
   "version": "3.12.5"
  }
 },
 "nbformat": 4,
 "nbformat_minor": 5
}
